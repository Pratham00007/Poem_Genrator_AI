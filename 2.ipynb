{
 "cells": [
  {
   "cell_type": "markdown",
   "id": "49f2ccea",
   "metadata": {},
   "source": [
    "now get prediction and genrate text"
   ]
  },
  {
   "cell_type": "markdown",
   "id": "2e583531",
   "metadata": {},
   "source": [
    "`some previous things`"
   ]
  },
  {
   "cell_type": "code",
   "execution_count": 1,
   "id": "af0962ed",
   "metadata": {},
   "outputs": [],
   "source": [
    "import random\n",
    "import numpy as np\n",
    "import tensorflow as tf\n",
    "from tensorflow.keras.models import Sequential \n",
    "# memory of our model\n",
    "from tensorflow.keras.layers import LSTM, Dense, Activation\n",
    "from tensorflow.keras.optimizers import RMSprop"
   ]
  },
  {
   "cell_type": "code",
   "execution_count": 4,
   "id": "429319c9",
   "metadata": {},
   "outputs": [],
   "source": [
    "#  shakespear poem text\n",
    "# using directly online not dowloading it\n",
    "filepath= tf.keras.utils.get_file('shakespeare.txt','https://storage.googleapis.com/download.tensorflow.org/data/shakespeare.txt')\n",
    "text=open(filepath,'rb').read().decode(encoding='utf-8').lower() \n",
    "# covering to all to lower to impove model accuracy as it predict next word\n",
    "text=text[300000:800000]\n",
    "# trianing on the this part of neural network only to save time\n",
    "\n",
    "\n",
    "characters = sorted(list(set(text)))\n",
    "# set to get unique and sorted to get sorted\n",
    "# CONVERT CHARACTER TO NUMERICAL\n",
    "\n",
    "char_to_index = {char: i for i, char in enumerate(characters)}\n",
    "# enumerate assign number to set values then we are storing that in dict as char as key and index as value\n",
    "#  like {'f':1 , 'g':2}\n",
    "\n",
    "\n",
    "# AND AGAIN NUMERICAL TO CHARACTER\n",
    "\n",
    "index_to_char = {i: char for i, char in enumerate(characters)}\n",
    "# number as key and char as value\n",
    "\n",
    "# use 40 chracter to predict next character\n",
    "seq_length=40\n",
    "step_size=3\n",
    "# how many chrac you want to shift to next sentence\n",
    "\n",
    "sentences=[]\n",
    "next_characters=[]"
   ]
  },
  {
   "cell_type": "markdown",
   "id": "572c3ede",
   "metadata": {},
   "source": [
    "new things start"
   ]
  },
  {
   "cell_type": "code",
   "execution_count": 3,
   "id": "5da3d313",
   "metadata": {},
   "outputs": [
    {
     "name": "stderr",
     "output_type": "stream",
     "text": [
      "WARNING:absl:Compiled the loaded model, but the compiled metrics have yet to be built. `model.compile_metrics` will be empty until you train or evaluate the model.\n"
     ]
    }
   ],
   "source": [
    "model=tf.keras.models.load_model('textgenerator.h5')"
   ]
  },
  {
   "cell_type": "markdown",
   "id": "af5394ed",
   "metadata": {},
   "source": [
    "takes the predictio of our model and picks one character and choose from soft\n",
    "\n",
    "if high temp choose risky word and and if low so choose safest one\n",
    "\n",
    "higher temp = creative sentence      "
   ]
  },
  {
   "cell_type": "code",
   "execution_count": null,
   "id": "1541f840",
   "metadata": {},
   "outputs": [],
   "source": [
    "def sample(preds,temperature=1.0):\n",
    "    preds=np.asarray(preds).astype('float64')\n",
    "    preds=np.log(preds)/temperature\n",
    "    exp_preds=np.exp(preds)\n",
    "    preds=exp_preds/ np.sum(exp_preds)\n",
    "    probas=np.random.multinomial(1,preds,1)\n",
    "    return np.argmax(probas)"
   ]
  },
  {
   "cell_type": "markdown",
   "id": "16b22b4a",
   "metadata": {},
   "source": [
    "take 40 char from shakespear rest genrate yourself\n",
    "\n",
    "producing as many charcter as lenght parameter says"
   ]
  },
  {
   "cell_type": "code",
   "execution_count": null,
   "id": "49ca3ed3",
   "metadata": {},
   "outputs": [],
   "source": [
    "def generate_text(length,temperature):\n",
    "    start_index=random.randint(0,len(text)-seq_length-1)\n",
    "    generated=''\n",
    "    sentence=text[start_index:start_index+seq_length]\n",
    "    generated+=sentence\n",
    "\n",
    "    for i in range(length):\n",
    "        x=np.zeros((1,seq_length,len(characters)))\n",
    "        for t,character in enumerate(sentence):\n",
    "            x[0,t,char_to_index[character]] = 1\n",
    "\n",
    "        predictions=model.predict(x,verbose=0)[0]\n",
    "        next_index=sample(predictions,temperature)\n",
    "        next_character=index_to_char[next_index]\n",
    "\n",
    "        generated+=next_character"
   ]
  }
 ],
 "metadata": {
  "kernelspec": {
   "display_name": "Python 3",
   "language": "python",
   "name": "python3"
  },
  "language_info": {
   "codemirror_mode": {
    "name": "ipython",
    "version": 3
   },
   "file_extension": ".py",
   "mimetype": "text/x-python",
   "name": "python",
   "nbconvert_exporter": "python",
   "pygments_lexer": "ipython3",
   "version": "3.12.4"
  }
 },
 "nbformat": 4,
 "nbformat_minor": 5
}
