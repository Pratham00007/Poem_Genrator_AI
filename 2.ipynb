{
 "cells": [
  {
   "cell_type": "markdown",
   "id": "49f2ccea",
   "metadata": {},
   "source": [
    "now get prediction and genrate text"
   ]
  },
  {
   "cell_type": "markdown",
   "id": "2e583531",
   "metadata": {},
   "source": [
    "`some previous things`"
   ]
  },
  {
   "cell_type": "code",
   "execution_count": 1,
   "id": "af0962ed",
   "metadata": {},
   "outputs": [],
   "source": [
    "import random\n",
    "import numpy as np\n",
    "import tensorflow as tf\n",
    "from tensorflow.keras.models import Sequential \n",
    "# memory of our model\n",
    "from tensorflow.keras.layers import LSTM, Dense, Activation\n",
    "from tensorflow.keras.optimizers import RMSprop"
   ]
  },
  {
   "cell_type": "code",
   "execution_count": 2,
   "id": "429319c9",
   "metadata": {},
   "outputs": [],
   "source": [
    "#  shakespear poem text\n",
    "# using directly online not dowloading it\n",
    "filepath= tf.keras.utils.get_file('shakespeare.txt','https://storage.googleapis.com/download.tensorflow.org/data/shakespeare.txt')\n",
    "text=open(filepath,'rb').read().decode(encoding='utf-8').lower() \n",
    "# covering to all to lower to impove model accuracy as it predict next word\n",
    "text=text[300000:800000]\n",
    "# trianing on the this part of neural network only to save time\n",
    "\n",
    "\n",
    "characters = sorted(list(set(text)))\n",
    "# set to get unique and sorted to get sorted\n",
    "# CONVERT CHARACTER TO NUMERICAL\n",
    "\n",
    "char_to_index = {char: i for i, char in enumerate(characters)}\n",
    "# enumerate assign number to set values then we are storing that in dict as char as key and index as value\n",
    "#  like {'f':1 , 'g':2}\n",
    "\n",
    "\n",
    "# AND AGAIN NUMERICAL TO CHARACTER\n",
    "\n",
    "index_to_char = {i: char for i, char in enumerate(characters)}\n",
    "# number as key and char as value\n",
    "\n",
    "# use 40 chracter to predict next character\n",
    "seq_length=40\n",
    "step_size=3\n",
    "# how many chrac you want to shift to next sentence\n",
    "\n",
    "sentences=[]\n",
    "next_characters=[]"
   ]
  },
  {
   "cell_type": "markdown",
   "id": "572c3ede",
   "metadata": {},
   "source": [
    "new things start"
   ]
  },
  {
   "cell_type": "code",
   "execution_count": 3,
   "id": "5da3d313",
   "metadata": {},
   "outputs": [
    {
     "name": "stderr",
     "output_type": "stream",
     "text": [
      "WARNING:absl:Compiled the loaded model, but the compiled metrics have yet to be built. `model.compile_metrics` will be empty until you train or evaluate the model.\n"
     ]
    }
   ],
   "source": [
    "model=tf.keras.models.load_model('textgenerator.h5')"
   ]
  },
  {
   "cell_type": "markdown",
   "id": "af5394ed",
   "metadata": {},
   "source": [
    "takes the predictio of our model and picks one character and choose from soft\n",
    "\n",
    "if high temp choose risky word and and if low so choose safest one\n",
    "\n",
    "higher temp = creative sentence      "
   ]
  },
  {
   "cell_type": "code",
   "execution_count": 4,
   "id": "1541f840",
   "metadata": {},
   "outputs": [],
   "source": [
    "def sample(preds,temperature=1.0):\n",
    "    preds=np.asarray(preds).astype('float64')\n",
    "    preds=np.log(preds)/temperature\n",
    "    exp_preds=np.exp(preds)\n",
    "    preds=exp_preds/ np.sum(exp_preds)\n",
    "    probas=np.random.multinomial(1,preds,1)\n",
    "    return np.argmax(probas)"
   ]
  },
  {
   "cell_type": "markdown",
   "id": "16b22b4a",
   "metadata": {},
   "source": [
    "take 40 char from shakespear rest genrate yourself\n",
    "\n",
    "producing as many charcter as lenght parameter says"
   ]
  },
  {
   "cell_type": "code",
   "execution_count": 5,
   "id": "49ca3ed3",
   "metadata": {},
   "outputs": [],
   "source": [
    "def generate_text(length,temperature):\n",
    "    start_index=random.randint(0,len(text)-seq_length-1)\n",
    "    generated=''\n",
    "    sentence=text[start_index:start_index+seq_length]\n",
    "    generated+=sentence\n",
    "\n",
    "    for i in range(length):\n",
    "        x=np.zeros((1,seq_length,len(characters)))\n",
    "        for t,character in enumerate(sentence):\n",
    "            x[0,t,char_to_index[character]] = 1\n",
    "\n",
    "        predictions=model.predict(x,verbose=0)[0]\n",
    "        next_index=sample(predictions,temperature)\n",
    "        next_character=index_to_char[next_index]\n",
    "\n",
    "        generated+=next_character\n",
    "        sentence=sentence[1:]+next_character\n",
    "    return generated"
   ]
  },
  {
   "cell_type": "code",
   "execution_count": 7,
   "id": "c58a2748",
   "metadata": {},
   "outputs": [
    {
     "name": "stdout",
     "output_type": "stream",
     "text": [
      "-------0.2---------\n",
      "efore love moderately; long love doth so stay.\n",
      "\n",
      "clarence:\n",
      "be shall we be so the days with he stay the stand\n",
      "that he shall not the his a place the heavens shall desered\n",
      "the stand the crown the stand the heavens stand with he\n",
      "was the father of the frees the crown with he\n",
      "will be so the crown the heavens the word,\n",
      "the end the word it the cro\n"
     ]
    }
   ],
   "source": [
    "print(\"-------0.2---------\")\n",
    "print(generate_text(300,temperature=0.2))"
   ]
  },
  {
   "cell_type": "code",
   "execution_count": 8,
   "id": "e00d5c3e",
   "metadata": {},
   "outputs": [
    {
     "name": "stdout",
     "output_type": "stream",
     "text": [
      "-------0.4---------\n",
      " 'heart's ease?'\n",
      "\n",
      "peter:\n",
      "o, musicians, be so forth, be stay, that shall dead the bears\n",
      "of the stand in the crown me with he shall i sit:\n",
      "the stand my son is be sould thee his and deels\n",
      "i have he shall not the truth the earth of the words,\n",
      "and the word of the heavens the ware thee mean\n",
      "with the stand the crown the crown that he shall desit\n"
     ]
    }
   ],
   "source": [
    "print(\"-------0.4---------\")\n",
    "print(generate_text(300,temperature=0.4))"
   ]
  },
  {
   "cell_type": "code",
   "execution_count": 9,
   "id": "bb7b3b03",
   "metadata": {},
   "outputs": [
    {
     "name": "stdout",
     "output_type": "stream",
     "text": [
      "-------0.6---------\n",
      "rs is in this?\n",
      "to press before thy father of the love;\n",
      "and she the see the word in the great my brothed ears,\n",
      "that may what slain there is not of the king,\n",
      "or in the very bowst he shall not the king.\n",
      "\n",
      "romeo:\n",
      "that are it the steeping leave the free-\n",
      "the heavens undir with will shall be the king,\n",
      "than come plack of whose and the better the \n"
     ]
    }
   ],
   "source": [
    "print(\"-------0.6---------\")\n",
    "print(generate_text(300,temperature=0.6))"
   ]
  },
  {
   "cell_type": "code",
   "execution_count": 10,
   "id": "13de105b",
   "metadata": {},
   "outputs": [
    {
     "name": "stdout",
     "output_type": "stream",
     "text": [
      "-------0.8---------\n",
      "laurence' cell;\n",
      "there stays a husband to my very to your would:\n",
      "now shall well some spere up,\n",
      "to many to no gone visous to he sleep diench.\n",
      "tome king undere the inder cround'd my petion,\n",
      "traiting his days chaincemble, my uple you will,\n",
      "warwick, and new king and station of thee\n",
      "o'er dose thou are forth of she-hears to this heaven\n",
      "shilthe t\n"
     ]
    }
   ],
   "source": [
    "print(\"-------0.8---------\")\n",
    "print(generate_text(300,temperature=0.8))"
   ]
  },
  {
   "cell_type": "code",
   "execution_count": 11,
   "id": "a4fe5ebd",
   "metadata": {},
   "outputs": [
    {
     "name": "stdout",
     "output_type": "stream",
     "text": [
      "-------1.0---------\n",
      " my second joy\n",
      "and first-fruits of my bolingbroke, high found.\n",
      "\n",
      "nurre?\n",
      "\n",
      "dechard:\n",
      "why, lowe or serventing love, a dand my just.\n",
      "\n",
      "warwick:\n",
      "that is walch, it is thy proavere, where,\n",
      "is ieldperment he stakes heaven extrethe\n",
      "and wrelling as daint tell mqusiness a bother.\n",
      "\n",
      "couls:\n",
      "by why should dirick do; thou art challow\n",
      "me was neigh. but my lo\n"
     ]
    }
   ],
   "source": [
    "print(\"-------1.0---------\")\n",
    "print(generate_text(300,temperature=1.0))"
   ]
  }
 ],
 "metadata": {
  "kernelspec": {
   "display_name": "Python 3",
   "language": "python",
   "name": "python3"
  },
  "language_info": {
   "codemirror_mode": {
    "name": "ipython",
    "version": 3
   },
   "file_extension": ".py",
   "mimetype": "text/x-python",
   "name": "python",
   "nbconvert_exporter": "python",
   "pygments_lexer": "ipython3",
   "version": "3.12.4"
  }
 },
 "nbformat": 4,
 "nbformat_minor": 5
}
